{
 "cells": [
  {
   "cell_type": "code",
   "execution_count": 9,
   "metadata": {},
   "outputs": [],
   "source": [
    "from Crypto.Cipher import AES\n",
    "from hashlib import sha1\n",
    "import binascii\n",
    "import codecs\n",
    "import base64"
   ]
  },
  {
   "cell_type": "code",
   "execution_count": 10,
   "metadata": {},
   "outputs": [],
   "source": [
    "def get_parity():\n",
    "    \"\"\"获取校验位\"\"\"\n",
    "    a = [1,1,1,1,1,6]\n",
    "    b = [7,3,1,7,3,1]\n",
    "    c = 0\n",
    "    for i in range(0,6):\n",
    "        c = c + a[i]*b[i]\n",
    "        parity = c % 10\n",
    "    return parity"
   ]
  },
  {
   "cell_type": "code",
   "execution_count": 11,
   "metadata": {},
   "outputs": [],
   "source": [
    "def parity_check(x):\n",
    "    \"\"\"调整奇偶校验\"\"\"\n",
    "    k = []\n",
    "    a = bin(int(x,16))[2:]\n",
    "    for i in range(0,len(a),8):\n",
    "        if (a[i:i+7].count(\"1\"))%2 == 0:\n",
    "            k.append(a[i:i+7])\n",
    "            k.append('1') \n",
    "        else :\n",
    "            k.append(a[i:i+7])\n",
    "            k.append('0')      \n",
    "    a1 = hex(int(''.join(k),2))\n",
    "    return a1[2:]"
   ]
  },
  {
   "cell_type": "code",
   "execution_count": 12,
   "metadata": {},
   "outputs": [
    {
     "name": "stdout",
     "output_type": "stream",
     "text": [
      "parity =  7\n",
      "K_enc =  ea8645d97ff725a898942aa280c43179\n",
      "plain_text =  b'Herzlichen Glueckwunsch. Sie haben die Nuss geknackt. Das Codewort lautet: Kryptographie!\\x01\\x00\\x00\\x00\\x00\\x00\\x00'\n"
     ]
    }
   ],
   "source": [
    "if __name__ == \"__main__\":\n",
    "    cipher_text = base64.b64decode(\n",
    "        '9MgYwmuPrjiecPMx61O6zIuy3MtIXQQ0E59T3xB6u0Gyf1gYs2i3K9Jxaa0zj4gTMazJuApwd6+jdyeI5iGHvhQyDHGVlAuYTgJrbFDrfB22Fpil2NfNnWFBTXyf7SDI')\n",
    "    IV = '00000000000000000000000000000000'\n",
    "\n",
    "    # 求校验位\n",
    "    parity = get_parity()\n",
    "    print(\"parity = \",parity)\n",
    "\n",
    "    # 得到机读信息\n",
    "    MRZ_information = \"12345678<81110182111116\"+str(parity)\n",
    "\n",
    "    # 求机读信息的 sha1 散列\n",
    "    SHA1_MRZ_information = sha1(MRZ_information.encode()).hexdigest()\n",
    "\n",
    "    # 截取前 16 字节得到 K_seed\n",
    "    K_seed = SHA1_MRZ_information[:32]\n",
    "\n",
    "    # 并置 K_seed 和 c 得到 D\n",
    "    c = '00000001'\n",
    "    D = K_seed + c\n",
    "\n",
    "    # 计算 D 的 sha1 散列并形成密钥 K_a 和 K_b\n",
    "    SHA1_D = sha1(codecs.decode(D,\"hex\")).hexdigest()\n",
    "    K_a = SHA1_D[:16]\n",
    "    K_b = SHA1_D[16:32]\n",
    "\n",
    "    # 调整奇偶校验位并得到 K_enc\n",
    "    K_a = parity_check(K_a)\n",
    "    K_b = parity_check(K_b)\n",
    "    K_enc = K_a + K_b\n",
    "    print(\"K_enc = \",K_enc)\n",
    "\n",
    "    # 解密\n",
    "    m=AES.new(binascii.unhexlify(K_enc),AES.MODE_CBC,binascii.unhexlify(IV))\n",
    "    plain_text = m.decrypt(cipher_text)\n",
    "    print(\"plain_text = \", plain_text)"
   ]
  }
 ],
 "metadata": {
  "kernelspec": {
   "display_name": "Python 3",
   "language": "python",
   "name": "python3"
  },
  "language_info": {
   "codemirror_mode": {
    "name": "ipython",
    "version": 3
   },
   "file_extension": ".py",
   "mimetype": "text/x-python",
   "name": "python",
   "nbconvert_exporter": "python",
   "pygments_lexer": "ipython3",
   "version": "3.7.6"
  }
 },
 "nbformat": 4,
 "nbformat_minor": 4
}
